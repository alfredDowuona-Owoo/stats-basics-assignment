{
 "cells": [
  {
   "cell_type": "markdown",
   "id": "5e78e297-2546-4a74-b0b2-8476dad82f92",
   "metadata": {},
   "source": [
    "#### Q1. What are the three measures of central tendency?"
   ]
  },
  {
   "cell_type": "markdown",
   "id": "de57a125-7378-4841-a823-3689aa5a5d48",
   "metadata": {},
   "source": [
    "\n",
    "\n",
    " - Mean (Average):\n",
    "\n",
    "\n",
    " - Median:\n",
    "\n",
    "\n",
    " - Mode:\n"
   ]
  },
  {
   "cell_type": "markdown",
   "id": "0b9fae0b-8269-4192-9453-4872c3356214",
   "metadata": {},
   "source": [
    "#### Q2. What is the difference between the mean, median, and mode? How are they used to measure the central tendency of a dataset?"
   ]
  },
  {
   "cell_type": "markdown",
   "id": "ac4bc15a-c031-408c-a977-145be1f54c2b",
   "metadata": {},
   "source": [
    "- Mean (Average):\n",
    "\n",
    "     - The mean is calculated by summing all the values in a dataset and dividing by the number of values.\n",
    "     - Use: The mean represents the \"center\" of the dataset and provides an overall sense of the typical value. It's especially useful for datasets with normally distributed data.\n",
    "     \n",
    " - Median:\n",
    "\n",
    "    - The median is the middle value when the data is ordered from smallest to largest. If there's an even number of values, it's the average of the two middle values.\n",
    "    - Use: The median is robust to extreme outliers and gives insight into the central value of the dataset. It's often used when the data may not be normally distributed.\n",
    "\n",
    " - Mode:\n",
    "\n",
    "     - The mode is the most frequently occurring value in the dataset.\n",
    "    - Use: The mode identifies the most common value in the dataset, which can be useful for categorical or discrete data. It may also be helpful in identifying peaks in data distributions."
   ]
  },
  {
   "cell_type": "markdown",
   "id": "2306d80b-2f11-4bb5-9cf7-c420ab8971aa",
   "metadata": {},
   "source": [
    "#### Q3. Measure the three measures of central tendency for the given height data:\n",
    "[178,177,176,177,178.2,178,175,179,180,175,178.9,176.2,177,172.5,178,176.5]"
   ]
  },
  {
   "cell_type": "code",
   "execution_count": 1,
   "id": "c7ac81e3-748e-4c17-bdfc-6970d758ffa0",
   "metadata": {},
   "outputs": [],
   "source": [
    "import numpy as np\n",
    "import pandas as pd\n",
    "\n",
    "data = [178,177,176,177,178.2,178,175,179,180,175,178.9,176.2,177,172.5,178,176.5]\n",
    "\n"
   ]
  },
  {
   "cell_type": "code",
   "execution_count": 2,
   "id": "0835c8a2-aba5-4989-a550-e718e4388ff8",
   "metadata": {},
   "outputs": [
    {
     "data": {
      "text/plain": [
       "177.01875"
      ]
     },
     "execution_count": 2,
     "metadata": {},
     "output_type": "execute_result"
    }
   ],
   "source": [
    "np.mean(data)"
   ]
  },
  {
   "cell_type": "code",
   "execution_count": 3,
   "id": "18a0d513-3d73-44c7-a695-db42820312a0",
   "metadata": {},
   "outputs": [
    {
     "data": {
      "text/plain": [
       "177.0"
      ]
     },
     "execution_count": 3,
     "metadata": {},
     "output_type": "execute_result"
    }
   ],
   "source": [
    "np.median(data)"
   ]
  },
  {
   "cell_type": "code",
   "execution_count": 5,
   "id": "c0aa4e26-a0e4-4dcd-8579-95fd22453e8e",
   "metadata": {},
   "outputs": [
    {
     "name": "stderr",
     "output_type": "stream",
     "text": [
      "/tmp/ipykernel_2031/2800027621.py:2: FutureWarning: Unlike other reduction functions (e.g. `skew`, `kurtosis`), the default behavior of `mode` typically preserves the axis it acts along. In SciPy 1.11.0, this behavior will change: the default value of `keepdims` will become False, the `axis` over which the statistic is taken will be eliminated, and the value None will no longer be accepted. Set `keepdims` to True or False to avoid this warning.\n",
      "  stats.mode(data)\n"
     ]
    },
    {
     "data": {
      "text/plain": [
       "ModeResult(mode=array([177.]), count=array([3]))"
      ]
     },
     "execution_count": 5,
     "metadata": {},
     "output_type": "execute_result"
    }
   ],
   "source": [
    "from scipy import stats\n",
    "stats.mode(data)"
   ]
  },
  {
   "cell_type": "markdown",
   "id": "38ecbf31-9b7f-4931-af42-bb3284ad558c",
   "metadata": {},
   "source": [
    "#### Q4. Find the standard deviation for the given data:\n",
    "[178,177,176,177,178.2,178,175,179,180,175,178.9,176.2,177,172.5,178,176.5]"
   ]
  },
  {
   "cell_type": "code",
   "execution_count": 6,
   "id": "830218ee-835e-4f06-a7e8-787ecc0ed414",
   "metadata": {},
   "outputs": [
    {
     "data": {
      "text/plain": [
       "1.7885814036548633"
      ]
     },
     "execution_count": 6,
     "metadata": {},
     "output_type": "execute_result"
    }
   ],
   "source": [
    "data1 = [178,177,176,177,178.2,178,175,179,180,175,178.9,176.2,177,172.5,178,176.5]\n",
    "\n",
    "np.std(data1)"
   ]
  },
  {
   "cell_type": "markdown",
   "id": "1ac75bd6-560e-4d4b-94eb-00a07bc3a231",
   "metadata": {},
   "source": [
    "#### Q5. How are measures of dispersion such as range, variance, and standard deviation used to describe the spread of a dataset? Provide an example."
   ]
  },
  {
   "cell_type": "markdown",
   "id": "113d3f10-0a42-4c2d-a8d8-13d67e7ff821",
   "metadata": {},
   "source": [
    "\n",
    " - Range:\n",
    "\n",
    "     - The range is the difference between the maximum and minimum values in the dataset.\n",
    "    - Use: The range provides a simple measure of the spread in the data. However, it is sensitive to extreme values and may not fully capture the data's distribution.\n",
    "    \n",
    " - Variance:\n",
    "\n",
    "     - Variance measures the average of the squared differences between each data point and the mean.\n",
    "   - Use: Variance quantifies the degree of dispersion in the dataset. It is widely used in statistical calculations. However, it is in squared units, so the square root of the variance gives the standard deviation, which is often preferred for interpretation.\n",
    "   \n",
    " - Standard Deviation:\n",
    "\n",
    "   - The standard deviation is the square root of the variance. It measures the average distance between each data point and the mean.\n",
    "   - Use: The standard deviation provides a more interpretable measure of variability than variance. It is commonly used to understand the extent of data spread and is valuable in comparing data distributions."
   ]
  },
  {
   "cell_type": "markdown",
   "id": "943082d0-1622-4d8f-be0a-aedb6f6ccccc",
   "metadata": {},
   "source": [
    "#### Q6. What is a Venn diagram?"
   ]
  },
  {
   "cell_type": "markdown",
   "id": "672e6171-e50a-4bcd-8ad2-0d125f956c74",
   "metadata": {},
   "source": [
    " - A Venn diagram is a graphical representation used to depict the relationships between sets or groups of objects or elements. It consists of overlapping circles, each representing a set, with the degree of overlap indicating the extent of shared elements or common characteristics between the sets. Venn diagrams are a useful tool for illustrating set theory and visualizing the intersections and differences among various groups or categories."
   ]
  },
  {
   "cell_type": "markdown",
   "id": "bafd1fb5-3e2a-4845-a5a8-d9c7dc598240",
   "metadata": {},
   "source": [
    "##### Q7. For the two given sets A = (2,3,4,5,6,7) & B = (0,2,6,8,10). Find:\n",
    " - (i) A B\n",
    " - (ii) A ⋃ B"
   ]
  },
  {
   "cell_type": "markdown",
   "id": "a64f5caf-ee83-4e86-ba5b-392f274d311e",
   "metadata": {},
   "source": [
    "(i) 2 and 6"
   ]
  },
  {
   "cell_type": "markdown",
   "id": "caaca4ff-dbed-4909-86ec-88f607431748",
   "metadata": {},
   "source": [
    "(ii) 0,2,3,4,5,6,6,7,10"
   ]
  },
  {
   "cell_type": "markdown",
   "id": "bcd807e5-a586-415d-89ad-68d2daf75890",
   "metadata": {},
   "source": [
    "#### Q8. What do you understand about skewness in data?"
   ]
  },
  {
   "cell_type": "markdown",
   "id": "5a632b9e-5641-4b5c-963c-f4921824b0c4",
   "metadata": {},
   "source": [
    " - skewness in data is a statistical measure that describes the asymmetry or lack of symmetry in the distribution of a dataset. "
   ]
  },
  {
   "cell_type": "markdown",
   "id": "35d88318-bd82-4dab-9b14-8f0a14feea6b",
   "metadata": {},
   "source": [
    "#### Q9. If a data is right skewed then what will be the position of median with respect to mean?"
   ]
  },
  {
   "cell_type": "markdown",
   "id": "f9ddb7d5-06c6-4dc3-a8f7-be95c8c1f378",
   "metadata": {},
   "source": [
    " - The mean is typically greater than the median in positively skewed data, and the majority of data points are concentrated toward the left side."
   ]
  },
  {
   "cell_type": "markdown",
   "id": "7e69cf8a-803f-4da5-aac1-104c63450820",
   "metadata": {},
   "source": [
    "#### Q10. Explain the difference between covariance and correlation. How are these measures used in statistical analysis?"
   ]
  },
  {
   "cell_type": "markdown",
   "id": "72fe2340-e7e2-439b-a65b-cf325709b820",
   "metadata": {},
   "source": [
    " - Covariance:\n",
    "\n",
    "Covariance is a measure of the degree to which two variables change together. It indicates whether the variables have a positive or negative linear relationship.\n",
    "\n",
    "\n",
    " - Correlation:\n",
    "\n",
    "Correlation is a standardized measure that quantifies the strength and direction of a linear relationship between two variables. It ranges from -1 to 1, where -1 indicates a perfect negative linear relationship, 1 indicates a perfect positive linear relationship, and 0 indicates no linear relationship."
   ]
  },
  {
   "cell_type": "markdown",
   "id": "c869dce6-d66a-4633-acf2-173516f058ff",
   "metadata": {},
   "source": [
    "Q11. What is the formula for calculating the sample mean? Provide an example calculation for a dataset."
   ]
  },
  {
   "cell_type": "markdown",
   "id": "3f9d1a6d-26f6-4f68-b529-9a54202da5a9",
   "metadata": {},
   "source": [
    "The sample mean, often denoted as \"x̄\" (pronounced as \"x-bar\"), is calculated as the sum of all values in a dataset divided by the number of data points. Here's the formula for calculating the sample mean:\n",
    "\n",
    "Sample Mean (x̄) = (Σx) / n"
   ]
  },
  {
   "cell_type": "markdown",
   "id": "e5983996-21a8-4b18-85c5-ad57a9050087",
   "metadata": {},
   "source": [
    "- dataset: 5, 10, 15, 20, 25\n",
    "\n",
    " - Sum all the data points:\n",
    "         Σx = 5 + 10 + 15 + 20 + 25 = 75\n",
    "\n",
    " - Determine the number of data points (n):\n",
    "-  n = 5 (because there are 5 values in the dataset).\n",
    "\n",
    "    Calculate the sample mean (x̄) using the formula:\n",
    "   - x̄ = Σx / n\n",
    "    - x̄ = 75 / 5\n",
    "   -  x̄ = 15"
   ]
  },
  {
   "cell_type": "markdown",
   "id": "a26ec9b7-4976-4af6-9b28-c3034e2dc20d",
   "metadata": {},
   "source": [
    "#### Q12. For a normal distribution data what is the relationship between its measure of central tendency?"
   ]
  },
  {
   "cell_type": "markdown",
   "id": "65c69977-51eb-425d-8898-d153c371811a",
   "metadata": {},
   "source": [
    "In a normal distribution (also known as a Gaussian distribution or bell-shaped curve), there is a specific relationship between its measures of central tendency, which include the mean, median, and mode. \n",
    "  - Mean (Average): The mean of a normal distribution is located at the center of the distribution, and it is equal to the median and mode. In a normal distribution, the mean is the balance point of the data, dividing the distribution into two equal halves.\n",
    " -  Median: The median of a normal distribution is also located at the center of the distribution. It is equal to the mean and mode. The median is the value that separates the lower 50% of the data from the upper 50%, making it the middle value of the dataset.\n",
    " - Mode: In a normal distribution, the mode is the same as the mean and median. The mode is the most frequently occurring value in the distribution. Since a normal distribution is symmetric, it has only one mode."
   ]
  },
  {
   "cell_type": "markdown",
   "id": "48219ce5-5a78-48d3-a96d-c32eeb4bb7e3",
   "metadata": {},
   "source": [
    "#### Q13. How is covariance different from correlation?"
   ]
  },
  {
   "cell_type": "markdown",
   "id": "692a9a31-c81e-43fc-ba86-cd422feb22ab",
   "metadata": {},
   "source": [
    "  - Covariance:\n",
    "\n",
    "Covariance is a measure of the degree to which two variables change together. It indicates whether the variables have a positive or negative linear relationship.\n",
    "\n",
    "\n",
    " - Correlation:\n",
    "\n",
    "Correlation is a standardized measure that quantifies the strength and direction of a linear relationship between two variables. It ranges from -1 to 1, where -1 indicates a perfect negative linear relationship, 1 indicates a perfect positive linear relationship, and 0 indicates no linear relationship."
   ]
  },
  {
   "cell_type": "markdown",
   "id": "a9b65217-d18b-4983-9484-847d3018f203",
   "metadata": {},
   "source": [
    "#### Q14. How do outliers affect measures of central tendency and dispersion? Provide an example."
   ]
  },
  {
   "cell_type": "markdown",
   "id": "83d70504-5f36-4102-b783-98eae4814c39",
   "metadata": {},
   "source": [
    "Outliers can significantly affect measures of central tendency (e.g., mean, median, mode) and measures of dispersion (e.g., range, variance, standard deviation) in a dataset. An outlier is an extreme value that falls far from the typical range of values in the data. The impact of outliers on these measures depends on the nature and number of outliers present"
   ]
  },
  {
   "cell_type": "markdown",
   "id": "0fb7a5ae-f731-45ae-b7d2-bf0963d99aaf",
   "metadata": {},
   "source": [
    " - Mean: Outliers can have a substantial impact on the mean, especially when they are extreme values. A single outlier much larger or smaller than the other values can pull the mean in its direction.\n",
    " \n",
    "  - Median: The median is more robust to outliers than the mean because it is not influenced by extreme values. It is simply the middle value in a sorted dataset.\n",
    "  \n",
    "   - Mode: The mode is the most frequently occurring value and is less affected by outliers. In the presence of outliers, the mode remains the same unless the outlier is also the most frequent value.\n",
    "   \n",
    "   - Range: Outliers can significantly affect the range, especially when they are extreme values. The range is the difference between the maximum and minimum values.\n",
    "   -  Variance and Standard Deviation: Outliers can have a substantial impact on the variance and standard deviation, as they are based on the squared differences between data points and the mean. Outliers with large deviations from the mean can inflate these measures."
   ]
  },
  {
   "cell_type": "code",
   "execution_count": null,
   "id": "28ad33f3-7a89-4c43-89ec-39ec31942fd4",
   "metadata": {},
   "outputs": [],
   "source": []
  },
  {
   "cell_type": "code",
   "execution_count": null,
   "id": "226de27b-bc64-457f-85bb-0af4deda2b41",
   "metadata": {},
   "outputs": [],
   "source": []
  },
  {
   "cell_type": "code",
   "execution_count": null,
   "id": "f9db9454-d559-4b8b-b698-fcc0b749d5b9",
   "metadata": {},
   "outputs": [],
   "source": []
  },
  {
   "cell_type": "code",
   "execution_count": null,
   "id": "16c3ac7d-d596-4d65-8856-26471d3fdf3c",
   "metadata": {},
   "outputs": [],
   "source": []
  },
  {
   "cell_type": "code",
   "execution_count": null,
   "id": "0a66faa6-0bd7-4989-b5e8-6995e753958a",
   "metadata": {},
   "outputs": [],
   "source": []
  },
  {
   "cell_type": "code",
   "execution_count": null,
   "id": "036a6e34-aba8-4893-ad40-2aca3a35573c",
   "metadata": {},
   "outputs": [],
   "source": []
  },
  {
   "cell_type": "code",
   "execution_count": null,
   "id": "722dce6f-b37a-4114-82b0-a638cda751f0",
   "metadata": {},
   "outputs": [],
   "source": []
  },
  {
   "cell_type": "code",
   "execution_count": null,
   "id": "ba0648e4-e422-4ab3-82dd-cee7715ba9c3",
   "metadata": {},
   "outputs": [],
   "source": []
  },
  {
   "cell_type": "code",
   "execution_count": null,
   "id": "8a847906-707a-4624-92c8-e13d5838a20b",
   "metadata": {},
   "outputs": [],
   "source": []
  },
  {
   "cell_type": "code",
   "execution_count": null,
   "id": "40055b7e-9578-4e30-ada2-d68babfd0997",
   "metadata": {},
   "outputs": [],
   "source": []
  }
 ],
 "metadata": {
  "kernelspec": {
   "display_name": "Python 3 (ipykernel)",
   "language": "python",
   "name": "python3"
  },
  "language_info": {
   "codemirror_mode": {
    "name": "ipython",
    "version": 3
   },
   "file_extension": ".py",
   "mimetype": "text/x-python",
   "name": "python",
   "nbconvert_exporter": "python",
   "pygments_lexer": "ipython3",
   "version": "3.10.8"
  }
 },
 "nbformat": 4,
 "nbformat_minor": 5
}
